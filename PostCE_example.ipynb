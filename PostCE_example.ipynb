{
 "cells": [
  {
   "cell_type": "code",
   "execution_count": 1,
   "id": "9bfd9a61-d08b-470c-a8db-73a02d10967a",
   "metadata": {},
   "outputs": [],
   "source": [
    "import numpy as np\n",
    "import itertools as itt"
   ]
  },
  {
   "cell_type": "markdown",
   "id": "c0e73106",
   "metadata": {},
   "source": [
    "### Functions"
   ]
  },
  {
   "cell_type": "markdown",
   "id": "478d84d8",
   "metadata": {},
   "source": [
    "Variables: $X = (X_0,\\dots, X_{p-1})$ and $Y$\n",
    "\n",
    "`k`: $\\in \\{0,1,\\dots,p-1\\}$\n",
    "\n",
    "`Obs`: np.array; $[x_0,\\dots,x_{p-1},y]$ where $y=1$ and $x_i\\in$ $\\{$`0,1,np.nan`$\\}$\n",
    "\n",
    "`Pr_joint`: numpy.ndarray;  `Pr_joint[x[0],...,x[p-1],y]`$=\\Pr(X_{0}=x_0,\\dots,X_{p-1}=x_{p-1},Y=y)$"
   ]
  },
  {
   "cell_type": "code",
   "execution_count": 2,
   "id": "7ca47a5f",
   "metadata": {},
   "outputs": [],
   "source": [
    "from PostCE import PostDCE, PostTCE"
   ]
  },
  {
   "cell_type": "markdown",
   "id": "d6448b07",
   "metadata": {},
   "source": [
    "### joint probability"
   ]
  },
  {
   "cell_type": "code",
   "execution_count": 3,
   "id": "c3dfef23",
   "metadata": {},
   "outputs": [],
   "source": [
    "def func_prob():\n",
    "    Pr_joint = np.zeros((2,2,2,2,2,2))\n",
    "    p = np.zeros(6)\n",
    "    for idx in itt.product([0,1],repeat=6):\n",
    "        p[0] = 0.3 * idx[0] + (1-0.3)*(1-idx[0])\n",
    "        p[1] = 0.75*idx[1] + (1-0.75)*(1-idx[1])\n",
    "        p[2] = (idx[1]*0.85 + (1-idx[1])*0.2) * (2*idx[2]-1) + 1- idx[2]\n",
    "        p[3] = (0.25*(1-idx[0])*(1-idx[1]) + 0.45*(1-idx[0])*(idx[1]) + 0.55*(idx[0])*(1-idx[1]) + 0.75*(idx[0])*idx[1]) * (2*idx[3]-1) + 1 - idx[3]\n",
    "        p[4] = (0.1*(1-idx[3])*(1-idx[2]) + 0.4*(1-idx[3])*(idx[2]) + 0.8*(idx[3])*(1-idx[2]) + 0.9*(idx[3])*(idx[2])) * (2*idx[4]-1) + 1 - idx[4]\n",
    "        p[5] = (0.2*(1-idx[0])*(1-idx[3]) + 0.85*(1-idx[0])*(idx[3]) + 0.25*(idx[0])*(1-idx[3]) + 0.9*(idx[0])*(idx[3])) * (2*idx[5]-1) + 1- idx[5]\n",
    "        Pr_joint[tuple(idx)] = np.prod(p)\n",
    "    return Pr_joint\n",
    "\n",
    "\n",
    "def func_prob_cALL():\n",
    "    Pr_joint = np.zeros((2,2,2,2))\n",
    "    p = np.zeros(4)\n",
    "    for idx in itt.product([0,1],repeat=4):\n",
    "        p[0] = 0.096 * (2*idx[0]-1) + 1- idx[0]\n",
    "        p[1] = (0.093*(1-idx[0]) + 0.115*(idx[0])) * (2*idx[1]-1) + 1- idx[1]\n",
    "        p[2] = 0.309 * (2*idx[2]-1) + 1- idx[2]\n",
    "        a = np.exp(-10+ 1.041*idx[0] + 0.777*idx[1] + 1.607*idx[2])\n",
    "        p[3] = a/(1+a) * (2*idx[3]-1) + 1 - idx[3]\n",
    "        Pr_joint[tuple(idx)] = np.prod(p)\n",
    "    return Pr_joint\n",
    "\n",
    "\n",
    "def func_prob_cALL_2():\n",
    "    Pr_joint = np.zeros((2,2,2))\n",
    "    Pr_joint1 = func_prob_cALL()\n",
    "    for idx in itt.product([0,1],repeat=3):\n",
    "        Pr_joint[tuple(idx)] = np.sum(Pr_joint1[idx[0],idx[1],:,idx[2]])\n",
    "    return Pr_joint\n",
    "\n",
    "def func_prob_cALL_3():\n",
    "    Pr_joint = np.zeros((2,2,2))\n",
    "    Pr_joint1 = func_prob_cALL()\n",
    "    for idx in itt.product([0,1],repeat=3):\n",
    "        Pr_joint[tuple(idx)] = np.sum(Pr_joint1[idx[0],:,idx[1],idx[2]])\n",
    "    return Pr_joint"
   ]
  },
  {
   "cell_type": "markdown",
   "id": "128082a7",
   "metadata": {},
   "source": [
    "### Results"
   ]
  },
  {
   "cell_type": "code",
   "execution_count": 4,
   "id": "4a769df9",
   "metadata": {},
   "outputs": [
    {
     "name": "stdout",
     "output_type": "stream",
     "text": [
      "k= 0 ,   PostTCE= 0.4494949494949495\n",
      "k= 1 ,   PostTCE= 0\n",
      "k= 2 ,   PostTCE= 0.0\n",
      "k= 3 ,   PostTCE= 0.7222222222222222\n",
      "k= 4 ,   PostTCE= -2.220446049250313e-16\n"
     ]
    }
   ],
   "source": [
    "Obs = np.array([1,0,1,1,1,1])\n",
    "Pr_joint = func_prob()\n",
    "for k in range(0,5):\n",
    "    print(\"k=\",k,\",  \", \"PostTCE=\", PostTCE(k=k,Obs= Obs,Pr_joint=Pr_joint))"
   ]
  },
  {
   "cell_type": "code",
   "execution_count": 5,
   "id": "a06e560b",
   "metadata": {},
   "outputs": [
    {
     "name": "stdout",
     "output_type": "stream",
     "text": [
      "k= 0 ,   PostTCE= 0.13776944704779767\n",
      "k= 1 ,   PostTCE= 0.18275538894095592\n",
      "k= 2 ,   PostTCE= 3.9426574053853987e-17\n",
      "k= 3 ,   PostTCE= 0.5970009372071229\n",
      "k= 4 ,   PostTCE= -9.512852860951725e-19\n"
     ]
    }
   ],
   "source": [
    "Obs = np.array([np.nan,np.nan,np.nan,np.nan,np.nan,1])\n",
    "Pr_joint = func_prob()\n",
    "for k in range(0,5):\n",
    "    print(\"k=\",k,\",  \", \"PostTCE=\", PostTCE(k=k,Obs= Obs,Pr_joint=Pr_joint))"
   ]
  },
  {
   "cell_type": "code",
   "execution_count": 6,
   "id": "ad99af4e",
   "metadata": {},
   "outputs": [
    {
     "name": "stdout",
     "output_type": "stream",
     "text": [
      "k= 0 ,   PostTCE= 0.6830963399583847\n",
      "k= 1 ,   PostTCE= 0.5398704822619194\n",
      "k= 2 ,   PostTCE= 0.7992883080302031\n"
     ]
    }
   ],
   "source": [
    "Obs = np.array([1,1,1,1])\n",
    "Pr_joint = func_prob_cALL()\n",
    "for k in range(0,3):\n",
    "    print(\"k=\",k,\",  \", \"PostTCE=\", PostTCE(k=k,Obs= Obs,Pr_joint=Pr_joint))"
   ]
  },
  {
   "cell_type": "code",
   "execution_count": 7,
   "id": "29b8ebc9",
   "metadata": {},
   "outputs": [
    {
     "name": "stdout",
     "output_type": "stream",
     "text": [
      "k= 0 ,   PostTCE= 0.15404830973789072\n",
      "k= 1 ,   PostTCE= 0.10328411315111141\n",
      "k= 2 ,   PostTCE= 0.5519201607595782\n"
     ]
    }
   ],
   "source": [
    "Obs = np.array([np.nan,np.nan,np.nan,1])\n",
    "Pr_joint = func_prob_cALL()\n",
    "for k in range(0,3):\n",
    "    print(\"k=\",k,\",  \", \"PostTCE=\", PostTCE(k=k,Obs= Obs,Pr_joint=Pr_joint))\n"
   ]
  },
  {
   "cell_type": "code",
   "execution_count": 8,
   "id": "3dd65ca9",
   "metadata": {},
   "outputs": [
    {
     "name": "stdout",
     "output_type": "stream",
     "text": [
      "k= 0 ,  dk*= (0, 0) ,   PostDCE= 0.05970462102238648\n",
      "k= 0 ,  dk*= (0, 1) ,   PostDCE= 0.2975897507463971\n",
      "k= 0 ,  dk*= (1, 0) ,   PostDCE= 0.12982729233837678\n",
      "k= 0 ,  dk*= (1, 1) ,   PostDCE= 0.6465801502046373\n",
      "k= 1 ,  dk*= (0,) ,   PostDCE= 0.1084138697575437\n",
      "k= 1 ,  dk*= (1,) ,   PostDCE= 0.5398704822619194\n",
      "k= 2 ,  dk*= [] ,   PostDCE= 0.7992883080302031\n"
     ]
    }
   ],
   "source": [
    "Obs = np.array([1,1,1,1])\n",
    "\n",
    "k = 0\n",
    "Pr_joint = func_prob_cALL()\n",
    "for dk_ in itt.product([0,1],repeat=2):\n",
    "    print(\"k=\",k,\",  dk*=\",dk_,\",  \", \"PostDCE=\", PostDCE(k=k,dk_=np.array(dk_),Obs= Obs,Pr_joint=Pr_joint))\n",
    "\n",
    "k = 1\n",
    "Pr_joint = func_prob_cALL()\n",
    "for dk_ in itt.product([0,1],repeat=1):\n",
    "    print(\"k=\",k,\",  dk*=\",dk_,\",  \", \"PostDCE=\", PostDCE(k=k,dk_=np.array(dk_),Obs= Obs,Pr_joint=Pr_joint))\n",
    "\n",
    "k = 2 \n",
    "Pr_joint = func_prob_cALL()\n",
    "dk_ = np.array([])\n",
    "print(\"k=\",k,\",  dk*=\",dk_,\",  \", \"PostDCE=\", PostDCE(k=k,dk_=np.array(dk_),Obs= Obs,Pr_joint=Pr_joint))"
   ]
  },
  {
   "cell_type": "markdown",
   "id": "dc3fb9b7",
   "metadata": {},
   "source": [
    "#### PostCE Bound"
   ]
  },
  {
   "cell_type": "code",
   "execution_count": 12,
   "id": "71a876af",
   "metadata": {},
   "outputs": [
    {
     "name": "stdout",
     "output_type": "stream",
     "text": [
      "(x1, x2, y)   Pr\n",
      "(0, 0, 0)   0.6246325431903922\n",
      "(0, 0, 1)   3.145680960796695e-05\n",
      "(0, 1, 0)   0.2792658527119972\n",
      "(0, 1, 1)   7.0147288002737e-05\n",
      "(1, 0, 0)   0.06632631999293277\n",
      "(1, 0, 1)   9.680007067292915e-06\n",
      "(1, 1, 0)   0.02964242319242976\n",
      "(1, 1, 1)   2.157680757025796e-05\n",
      "\n",
      "\n",
      "k= 0 ,   PostTCE= 0.6547557140620365\n",
      "k= 1 ,   PostTCE= 0.7993824520026739\n"
     ]
    }
   ],
   "source": [
    "Obs = np.array([1,1,1])\n",
    "Pr_joint = func_prob_cALL_3()\n",
    "print(\"(x1, x2, y)   Pr\")\n",
    "for idx in itt.product([0,1],repeat=3):\n",
    "    print(idx,\" \",Pr_joint[tuple(idx)])\n",
    "\n",
    "print(\"\\n\")\n",
    "for k in range(0,2):\n",
    "    print(\"k=\",k,\",  \", \"PostTCE=\", PostTCE(k=k,Obs= Obs,Pr_joint=Pr_joint))"
   ]
  },
  {
   "cell_type": "code",
   "execution_count": 10,
   "id": "d17bd46e",
   "metadata": {},
   "outputs": [
    {
     "name": "stdout",
     "output_type": "stream",
     "text": [
      "-12.537431677209346 1.2049376650494381 0.3316342197383775 1.3082969968678988\n"
     ]
    }
   ],
   "source": [
    "PNx_hat = 1- (1-0.98)/(1-0.143)*(1- (1-0.73)/(1-0.981)) - (1-0.165)/(1-0.143) * (1-0.73)/(1-0.981)\n",
    "L2_d1 = (1-0.98)/(1-0.143) * (0.981)/(1-0.981)\n",
    "L2_d2 = (1-0.98)/(1-0.143) * (1-0.73)/(1-0.981)\n",
    "D1 = (1-0.165)/(1-0.143) * (1-0.73)/(1-0.981)\n",
    "print(PNx_hat,L2_d1,L2_d2,D1+PNx_hat)"
   ]
  }
 ],
 "metadata": {
  "kernelspec": {
   "display_name": "Python 3.9.12 ('base')",
   "language": "python",
   "name": "python3"
  },
  "language_info": {
   "codemirror_mode": {
    "name": "ipython",
    "version": 3
   },
   "file_extension": ".py",
   "mimetype": "text/x-python",
   "name": "python",
   "nbconvert_exporter": "python",
   "pygments_lexer": "ipython3",
   "version": "3.9.13"
  },
  "vscode": {
   "interpreter": {
    "hash": "1cc62953be9a5483068c2a31aa6bc20d9343833681366df3f0b732eb8fbc7bf3"
   }
  }
 },
 "nbformat": 4,
 "nbformat_minor": 5
}
